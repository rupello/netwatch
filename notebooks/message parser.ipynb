{
 "metadata": {
  "name": "message parser"
 },
 "nbformat": 3,
 "nbformat_minor": 0,
 "worksheets": [
  {
   "cells": [
    {
     "cell_type": "code",
     "collapsed": false,
     "input": [
      "import re\n",
      "from datetime import datetime"
     ],
     "language": "python",
     "metadata": {},
     "outputs": [],
     "prompt_number": 2
    },
    {
     "cell_type": "code",
     "collapsed": false,
     "input": [
      "accept = '<12>Jun 16 17:25:53 kernel: ACCEPT IN=br0 OUT=vlan1 SRC=10.10.101.128 \\\n",
      "DST=208.111.160.6 LEN=64 TOS=0x00 PREC=0x00 TTL=63 ID=27317 DF PROTO=TCP \\\n",
      "SPT=62282 DPT=80 WINDOW=65535 RES=0x00 SYN URGP=0 \\\n",
      "OPT (020405B4010303040101080A059BFFA60000000004020000)\\n'\n",
      "\n",
      "drop = '<12>Jun 16 17:25:40 kernel: DROP IN=vlan1 OUT= \\\n",
      "MAC=01:00:5e:00:00:01:00:14:f1:e9:84:d9:08:00:45:c0:00:1c SRC=10.3.184.1 DST=224.0.0.1 \\\n",
      "LEN=28 TOS=0x00 PREC=0xC0 TTL=1 ID=26322 PROTO=2'\n",
      "\n",
      "\n",
      "dhcp_inf = '<30>Jun 21 13:00:25 dnsmasq-dhcp[97]: DHCPINFORM(br0) 10.10.101.122 00:1f:3c:8c:fb:01'\n",
      "\n",
      "dhcp_ack = '<30>Jun 21 13:00:25 dnsmasq-dhcp[97]: DHCPACK(br0) 10.10.101.122 00:1f:3c:8c:fb:01 D630ABC'\n",
      "\n",
      "x = '<12>Jun 15 16:11:32 kernel: ACCEPT IN=br0 OUT=vlan1 SRC=10.10.101.10 DST=72.215.225.9 LEN=56 TOS=0x00 PREC=0x00 TTL=127 ID=4013 DF PROTO=TCP SPT=63917 DPT=52230 WINDOW=8192 RES=0x00 SYN URGP=0 OPT (020405B40402080A023863CC00000000)'\n",
      "\n",
      "\n",
      "tests =  [accept,drop,dhcp_inf,dhcp_ack,x] "
     ],
     "language": "python",
     "metadata": {},
     "outputs": [],
     "prompt_number": 3
    },
    {
     "cell_type": "code",
     "collapsed": false,
     "input": [
      "def parse_message(m):\n",
      "    m = re.match('<(\\d+)>(\\w+\\s+\\d+\\s+\\d+:\\d+:\\d+)\\s+(\\S+):\\s+(.*)',m)\n",
      "    if m is not None:\n",
      "        return m.groups()\n",
      "\n",
      "for t in tests:    \n",
      "    (n,timestamp,action,data) = parse_message(t)\n",
      "    print (n,timestamp,action,data)\n"
     ],
     "language": "python",
     "metadata": {},
     "outputs": [
      {
       "output_type": "stream",
       "stream": "stdout",
       "text": [
        "('12', 'Jun 16 17:25:53', 'kernel', 'ACCEPT IN=br0 OUT=vlan1 SRC=10.10.101.128 DST=208.111.160.6 LEN=64 TOS=0x00 PREC=0x00 TTL=63 ID=27317 DF PROTO=TCP SPT=62282 DPT=80 WINDOW=65535 RES=0x00 SYN URGP=0 OPT (020405B4010303040101080A059BFFA60000000004020000)')\n",
        "('12', 'Jun 16 17:25:40', 'kernel', 'DROP IN=vlan1 OUT= MAC=01:00:5e:00:00:01:00:14:f1:e9:84:d9:08:00:45:c0:00:1c SRC=10.3.184.1 DST=224.0.0.1 LEN=28 TOS=0x00 PREC=0xC0 TTL=1 ID=26322 PROTO=2')\n",
        "('30', 'Jun 21 13:00:25', 'dnsmasq-dhcp[97]', 'DHCPINFORM(br0) 10.10.101.122 00:1f:3c:8c:fb:01')\n",
        "('30', 'Jun 21 13:00:25', 'dnsmasq-dhcp[97]', 'DHCPACK(br0) 10.10.101.122 00:1f:3c:8c:fb:01 D630ABC')\n",
        "('12', 'Jun 15 16:11:32', 'kernel', 'ACCEPT IN=br0 OUT=vlan1 SRC=10.10.101.10 DST=72.215.225.9 LEN=56 TOS=0x00 PREC=0x00 TTL=127 ID=4013 DF PROTO=TCP SPT=63917 DPT=52230 WINDOW=8192 RES=0x00 SYN URGP=0 OPT (020405B40402080A023863CC00000000)')\n"
       ]
      }
     ],
     "prompt_number": 4
    },
    {
     "cell_type": "code",
     "collapsed": false,
     "input": [
      "def parse_timestamp(timestamp):\n",
      "    \"\"\" convert to datetime, adding the current year & convert to utc \"\"\"\n",
      "    pt = datetime.strptime(timestamp,'%b %d %H:%M:%S')\n",
      "    nt = datetime.now()\n",
      "    if pt.month == nt.month:\n",
      "        year = nt.year\n",
      "    else:\n",
      "        # handle new year's wrap between logged timestamp & now()\n",
      "        year  = nt.year - 1\n",
      "    ct = datetime(year,pt.month,pt.day,pt.hour,pt.minute,pt.second)  \n",
      "    return ct + (datetime.utcnow() - datetime.now())"
     ],
     "language": "python",
     "metadata": {},
     "outputs": [],
     "prompt_number": 5
    },
    {
     "cell_type": "code",
     "collapsed": false,
     "input": [
      "print n\n",
      "print timestamp\n",
      "print parse_timestamp(timestamp)\n",
      "print action\n",
      "print data"
     ],
     "language": "python",
     "metadata": {},
     "outputs": [
      {
       "output_type": "stream",
       "stream": "stdout",
       "text": [
        "12\n",
        "Jun 15 16:11:32\n",
        "2013-06-15 20:11:32\n",
        "kernel\n",
        "ACCEPT IN=br0 OUT=vlan1 SRC=10.10.101.10 DST=72.215.225.9 LEN=56 TOS=0x00 PREC=0x00 TTL=127 ID=4013 DF PROTO=TCP SPT=63917 DPT=52230 WINDOW=8192 RES=0x00 SYN URGP=0 OPT (020405B40402080A023863CC00000000)\n"
       ]
      }
     ],
     "prompt_number": 6
    },
    {
     "cell_type": "code",
     "collapsed": false,
     "input": [
      "data = 'DHCPINFORM(br0) 10.10.101.122 00:1f:3c:8c:fb:01'"
     ],
     "language": "python",
     "metadata": {},
     "outputs": [],
     "prompt_number": 7
    },
    {
     "cell_type": "code",
     "collapsed": false,
     "input": [
      "def parse_fields(data):\n",
      "    fields = {}\n",
      "    for f in data.split():\n",
      "        vals = [x.strip() for x in f.split('=')]\n",
      "        if len(vals) == 1:\n",
      "             fields[vals[0]] = True\n",
      "        if len(vals) == 2:    \n",
      "            fields[vals[0]] = vals[1]\n",
      "    return fields\n",
      "            "
     ],
     "language": "python",
     "metadata": {},
     "outputs": [],
     "prompt_number": 8
    },
    {
     "cell_type": "code",
     "collapsed": false,
     "input": [
      "parse_fields(data)\n"
     ],
     "language": "python",
     "metadata": {},
     "outputs": [
      {
       "output_type": "pyout",
       "prompt_number": 55,
       "text": [
        "{'00:1f:3c:8c:fb:01': True, '10.10.101.122': True, 'DHCPINFORM(br0)': True}"
       ]
      }
     ],
     "prompt_number": 55
    },
    {
     "cell_type": "code",
     "collapsed": false,
     "input": [
      "'10.10.101.122'.isalpha()"
     ],
     "language": "python",
     "metadata": {},
     "outputs": [
      {
       "output_type": "pyout",
       "prompt_number": 10,
       "text": [
        "False"
       ]
      }
     ],
     "prompt_number": 10
    },
    {
     "cell_type": "code",
     "collapsed": false,
     "input": [
      "def process_message(m):\n",
      "    try:\n",
      "        groups = parse_message(m)\n",
      "        if groups is not None:\n",
      "            (n,timestamp,action,data) = groups\n",
      "            ts = parse_timestamp(timestamp)\n",
      "            return (n,ts,action,data)\n",
      "        else:\n",
      "            return (0,datetime.now(),\"UNKNOWN\",\"\")\n",
      "    except Exception as exc:\n",
      "        print 'error processing %s' % exc\n",
      "\n",
      "    \n",
      "from pprint import pprint    \n",
      "for t in tests:  \n",
      "    pprint(process_message(t))\n",
      "    print\n"
     ],
     "language": "python",
     "metadata": {},
     "outputs": [
      {
       "output_type": "stream",
       "stream": "stdout",
       "text": [
        "('12',\n",
        " datetime.datetime(2013, 6, 16, 21, 25, 53),\n",
        " 'kernel',\n",
        " 'ACCEPT IN=br0 OUT=vlan1 SRC=10.10.101.128 DST=208.111.160.6 LEN=64 TOS=0x00 PREC=0x00 TTL=63 ID=27317 DF PROTO=TCP SPT=62282 DPT=80 WINDOW=65535 RES=0x00 SYN URGP=0 OPT (020405B4010303040101080A059BFFA60000000004020000)')\n",
        "\n",
        "('12',\n",
        " datetime.datetime(2013, 6, 16, 21, 25, 40),\n",
        " 'kernel',\n",
        " 'DROP IN=vlan1 OUT= MAC=01:00:5e:00:00:01:00:14:f1:e9:84:d9:08:00:45:c0:00:1c SRC=10.3.184.1 DST=224.0.0.1 LEN=28 TOS=0x00 PREC=0xC0 TTL=1 ID=26322 PROTO=2')\n",
        "\n",
        "('30',\n",
        " datetime.datetime(2013, 6, 21, 17, 0, 25),\n",
        " 'dnsmasq-dhcp[97]',\n",
        " 'DHCPINFORM(br0) 10.10.101.122 00:1f:3c:8c:fb:01')\n",
        "\n",
        "('30',\n",
        " datetime.datetime(2013, 6, 21, 17, 0, 25),\n",
        " 'dnsmasq-dhcp[97]',\n",
        " 'DHCPACK(br0) 10.10.101.122 00:1f:3c:8c:fb:01 D630ABC')\n",
        "\n",
        "('12',\n",
        " datetime.datetime(2013, 6, 15, 20, 11, 32),\n",
        " 'kernel',\n",
        " 'ACCEPT IN=br0 OUT=vlan1 SRC=10.10.101.10 DST=72.215.225.9 LEN=56 TOS=0x00 PREC=0x00 TTL=127 ID=4013 DF PROTO=TCP SPT=63917 DPT=52230 WINDOW=8192 RES=0x00 SYN URGP=0 OPT (020405B40402080A023863CC00000000)')\n",
        "\n"
       ]
      }
     ],
     "prompt_number": 11
    },
    {
     "cell_type": "code",
     "collapsed": false,
     "input": [
      "# MAC loookup api\n",
      "# http://www.macvendorlookup.com/api\n",
      "# http://anonsvn.wireshark.org/wireshark/trunk/manuf\n",
      "# http://www.ip-adress.com/reverse_ip/31.192.116.24\n",
      "# http://stackoverflow.com/questions/12196190/reverse-ip-lookup-with-python\n",
      "# http://stackoverflow.com/questions/11901010/reverse-dns-lookup-in-python?rq=1\n"
     ],
     "language": "python",
     "metadata": {},
     "outputs": [],
     "prompt_number": 11
    },
    {
     "cell_type": "code",
     "collapsed": false,
     "input": [
      "from dns import resolver,reversename\n",
      "addr=reversename.from_address(\"8.8.8.8\")\n",
      "str(resolver.query(addr,\"PTR\")[0])"
     ],
     "language": "python",
     "metadata": {},
     "outputs": [
      {
       "output_type": "pyout",
       "prompt_number": 12,
       "text": [
        "'google-public-dns-a.google.com.'"
       ]
      }
     ],
     "prompt_number": 12
    },
    {
     "cell_type": "code",
     "collapsed": false,
     "input": [
      "from IPy import IP\n",
      "ip = IP('8.8.8.8/32')\n",
      "ip.reverseName()"
     ],
     "language": "python",
     "metadata": {},
     "outputs": [
      {
       "output_type": "pyout",
       "prompt_number": 13,
       "text": [
        "'8.8.8.8.in-addr.arpa.'"
       ]
      }
     ],
     "prompt_number": 13
    },
    {
     "cell_type": "code",
     "collapsed": false,
     "input": [
      "logpath = \"youlogfile.log\""
     ],
     "language": "python",
     "metadata": {},
     "outputs": [],
     "prompt_number": 14
    },
    {
     "cell_type": "code",
     "collapsed": false,
     "input": [
      "import os\n",
      "import arp\n",
      "assert os.path.exists(logpath)"
     ],
     "language": "python",
     "metadata": {},
     "outputs": [],
     "prompt_number": 15
    },
    {
     "cell_type": "code",
     "collapsed": false,
     "input": [
      "host = '10.10.101.10'\n",
      "\n",
      "def format_mac(mac):\n",
      "    return  ':'.join(['%02X' % ord(x) for x in mac])\n",
      "\n",
      "for l in  open(\"youlogfile.log\",'r'):\n",
      "    (n,ts,src,d) = process_message(l)\n",
      "    if d.startswith('ACCEPT'):\n",
      "        parse_fields(d)\n",
      "    elif d.startswith('DROP'):\n",
      "        parse_fields(d)\n",
      "    elif d.startswith('DHCPINFORM'):\n",
      "        pass\n",
      "    elif d.startswith('DHCPACK'):\n",
      "        pass\n",
      "    elif d.startswith('DHCPNAK'):\n",
      "        pass\n",
      "    elif d.startswith('DHCPREQUEST'):\n",
      "        pass\n",
      "    elif d.startswith('USER'):\n",
      "        pass\n",
      "    elif src.startswith('dropbear'):\n",
      "        pass\n",
      "    elif src.startswith('ntpc'):\n",
      "        pass\n",
      "    elif d.startswith('-- MARK --'):\n",
      "        pass\n",
      "    else:\n",
      "        print (n,ts,src,d)\n",
      "\n",
      "            \n",
      "        \n",
      "\n",
      "\n"
     ],
     "language": "python",
     "metadata": {},
     "outputs": [],
     "prompt_number": 16
    },
    {
     "cell_type": "code",
     "collapsed": false,
     "input": [
      "# see http://docs.sqlalchemy.org/en/rel_0_8/orm/tutorial.html\n",
      "import sqlalchemy"
     ],
     "language": "python",
     "metadata": {},
     "outputs": [],
     "prompt_number": 17
    },
    {
     "cell_type": "code",
     "collapsed": false,
     "input": [
      "from sqlalchemy import create_engine\n",
      "engine = create_engine('sqlite:///:memory:', echo=True)"
     ],
     "language": "python",
     "metadata": {},
     "outputs": [],
     "prompt_number": 37
    },
    {
     "cell_type": "code",
     "collapsed": false,
     "input": [
      "from sqlalchemy import Table, Column, Integer, String, MetaData, ForeignKey, DateTime"
     ],
     "language": "python",
     "metadata": {},
     "outputs": [],
     "prompt_number": 38
    },
    {
     "cell_type": "code",
     "collapsed": false,
     "input": [
      "metadata = MetaData()"
     ],
     "language": "python",
     "metadata": {},
     "outputs": [],
     "prompt_number": 39
    },
    {
     "cell_type": "code",
     "collapsed": false,
     "input": [
      "accepts = Table('accepts', metadata,\n",
      "    Column('id',Integer, primary_key=True),\n",
      "    Column('timestamp', DateTime),\n",
      "    Column('proto',String),\n",
      "    Column('src',String),\n",
      "    Column('dst',String),\n",
      "    Column('spt',Integer),\n",
      "    Column('dpt',Integer),\n",
      "    Column('inp',String),\n",
      "    Column('out',String)\n",
      "    )"
     ],
     "language": "python",
     "metadata": {},
     "outputs": [],
     "prompt_number": 40
    },
    {
     "cell_type": "code",
     "collapsed": false,
     "input": [
      "# create the tables, if necessary\n",
      "metadata.create_all(engine) "
     ],
     "language": "python",
     "metadata": {},
     "outputs": [
      {
       "output_type": "stream",
       "stream": "stdout",
       "text": [
        "2013-06-26 15:29:20,216 INFO sqlalchemy.engine.base.Engine PRAGMA table_info(\"accepts\")\n"
       ]
      },
      {
       "output_type": "stream",
       "stream": "stdout",
       "text": [
        "2013-06-26 15:29:20,217 INFO sqlalchemy.engine.base.Engine ()\n"
       ]
      },
      {
       "output_type": "stream",
       "stream": "stdout",
       "text": [
        "2013-06-26 15:29:20,220 INFO sqlalchemy.engine.base.Engine \n",
        "CREATE TABLE accepts (\n",
        "\tid INTEGER NOT NULL, \n",
        "\ttimestamp DATETIME, \n",
        "\tproto VARCHAR, \n",
        "\tsrc VARCHAR, \n",
        "\tdst VARCHAR, \n",
        "\tspt INTEGER, \n",
        "\tdpt INTEGER, \n",
        "\tinp VARCHAR, \n",
        "\tout VARCHAR, \n",
        "\tPRIMARY KEY (id)\n",
        ")\n",
        "\n",
        "\n"
       ]
      },
      {
       "output_type": "stream",
       "stream": "stdout",
       "text": [
        "2013-06-26 15:29:20,221 INFO sqlalchemy.engine.base.Engine ()\n"
       ]
      },
      {
       "output_type": "stream",
       "stream": "stdout",
       "text": [
        "2013-06-26 15:29:20,224 INFO sqlalchemy.engine.base.Engine COMMIT\n"
       ]
      }
     ],
     "prompt_number": 41
    },
    {
     "cell_type": "code",
     "collapsed": false,
     "input": [
      "ins = accepts.insert()"
     ],
     "language": "python",
     "metadata": {},
     "outputs": [],
     "prompt_number": 43
    },
    {
     "cell_type": "code",
     "collapsed": false,
     "input": [
      "str(ins)"
     ],
     "language": "python",
     "metadata": {},
     "outputs": [
      {
       "output_type": "pyout",
       "prompt_number": 44,
       "text": [
        "'INSERT INTO accepts (id, timestamp, proto, src, dst, spt, dpt, inp, out) VALUES (:id, :timestamp, :proto, :src, :dst, :spt, :dpt, :inp, :out)'"
       ]
      }
     ],
     "prompt_number": 44
    },
    {
     "cell_type": "code",
     "collapsed": false,
     "input": [
      "# limit the columns in the insert\n",
      "ins = accepts.insert().values(timestamp=datetime.now())\n",
      "str(ins)"
     ],
     "language": "python",
     "metadata": {},
     "outputs": [
      {
       "output_type": "pyout",
       "prompt_number": 47,
       "text": [
        "'INSERT INTO accepts (timestamp) VALUES (:timestamp)'"
       ]
      }
     ],
     "prompt_number": 47
    },
    {
     "cell_type": "code",
     "collapsed": false,
     "input": [
      "ins.compile().params "
     ],
     "language": "python",
     "metadata": {},
     "outputs": [
      {
       "output_type": "pyout",
       "prompt_number": 48,
       "text": [
        "{'timestamp': datetime.datetime(2013, 6, 26, 15, 30, 44, 393000)}"
       ]
      }
     ],
     "prompt_number": 48
    },
    {
     "cell_type": "code",
     "collapsed": false,
     "input": [
      "str(ins)"
     ],
     "language": "python",
     "metadata": {},
     "outputs": [
      {
       "output_type": "pyout",
       "prompt_number": 51,
       "text": [
        "'INSERT INTO accepts (timestamp) VALUES (:timestamp)'"
       ]
      }
     ],
     "prompt_number": 51
    },
    {
     "cell_type": "code",
     "collapsed": false,
     "input": [
      "conn = engine.connect()\n",
      "conn"
     ],
     "language": "python",
     "metadata": {},
     "outputs": [
      {
       "output_type": "pyout",
       "prompt_number": 53,
       "text": [
        "<sqlalchemy.engine.base.Connection at 0x54e27d0>"
       ]
      }
     ],
     "prompt_number": 53
    },
    {
     "cell_type": "code",
     "collapsed": false,
     "input": [
      "result = conn.execute(ins)"
     ],
     "language": "python",
     "metadata": {},
     "outputs": [
      {
       "output_type": "stream",
       "stream": "stdout",
       "text": [
        "2013-06-26 15:32:48,411 INFO sqlalchemy.engine.base.Engine INSERT INTO accepts (timestamp) VALUES (?)\n"
       ]
      },
      {
       "output_type": "stream",
       "stream": "stdout",
       "text": [
        "2013-06-26 15:32:48,411 INFO sqlalchemy.engine.base.Engine ('2013-06-26 15:30:44.393000',)\n"
       ]
      },
      {
       "output_type": "stream",
       "stream": "stdout",
       "text": [
        "2013-06-26 15:32:48,411 INFO sqlalchemy.engine.base.Engine COMMIT\n"
       ]
      }
     ],
     "prompt_number": 54
    },
    {
     "cell_type": "code",
     "collapsed": true,
     "input": [
      "for l in  open(\"test.log\",'r'):\n",
      "    (n,ts,src,d) = process_message(l)\n",
      "    if d.startswith('ACCEPT'):\n",
      "        fields = parse_fields(d)\n",
      "        ins = accepts.insert().values(timestamp=ts,\n",
      "                                        proto = fields.get('PROTO',''),\n",
      "                                        src = fields.get('SRC',''),\n",
      "                                        dst = fields.get('DST',''),\n",
      "                                        spt = fields.get('SPT',0),\n",
      "                                        dpt = fields.get('DPT',0),\n",
      "                                        inp = fields.get('IN',''),\n",
      "                                        out = fields.get('OUT',''),\n",
      "                                        )\n",
      "        result = conn.execute(ins)\n",
      "\n",
      "        "
     ],
     "language": "python",
     "metadata": {},
     "outputs": [
      {
       "output_type": "stream",
       "stream": "stdout",
       "text": [
        "2013-06-26 15:46:06,460 INFO sqlalchemy.engine.base.Engine INSERT INTO accepts (timestamp, proto, src, dst, spt, dpt, inp, out) VALUES (?, ?, ?, ?, ?, ?, ?, ?)\n"
       ]
      },
      {
       "output_type": "stream",
       "stream": "stdout",
       "text": [
        "2013-06-26 15:46:06,461 INFO sqlalchemy.engine.base.Engine ('2013-06-15 20:11:25.000000', 'TCP', '10.10.101.128', '176.32.98.166', '56308', '443', 'br0', 'vlan1')\n"
       ]
      },
      {
       "output_type": "stream",
       "stream": "stdout",
       "text": [
        "2013-06-26 15:46:06,463 INFO sqlalchemy.engine.base.Engine COMMIT\n"
       ]
      },
      {
       "output_type": "stream",
       "stream": "stdout",
       "text": [
        "2013-06-26 15:46:06,464 INFO sqlalchemy.engine.base.Engine INSERT INTO accepts (timestamp, proto, src, dst, spt, dpt, inp, out) VALUES (?, ?, ?, ?, ?, ?, ?, ?)\n"
       ]
      },
      {
       "output_type": "stream",
       "stream": "stdout",
       "text": [
        "2013-06-26 15:46:06,464 INFO sqlalchemy.engine.base.Engine ('2013-06-15 20:11:26.000000', 'TCP', '10.10.101.10', '72.215.225.9', '63917', '52230', 'br0', 'vlan1')\n"
       ]
      },
      {
       "output_type": "stream",
       "stream": "stdout",
       "text": [
        "2013-06-26 15:46:06,466 INFO sqlalchemy.engine.base.Engine COMMIT\n"
       ]
      },
      {
       "output_type": "stream",
       "stream": "stdout",
       "text": [
        "2013-06-26 15:46:06,467 INFO sqlalchemy.engine.base.Engine INSERT INTO accepts (timestamp, proto, src, dst, spt, dpt, inp, out) VALUES (?, ?, ?, ?, ?, ?, ?, ?)\n"
       ]
      },
      {
       "output_type": "stream",
       "stream": "stdout",
       "text": [
        "2013-06-26 15:46:06,467 INFO sqlalchemy.engine.base.Engine ('2013-06-15 20:11:30.000000', 'ICMP', '10.10.101.10', '72.215.225.9', 0, 0, 'br0', 'vlan1')\n"
       ]
      },
      {
       "output_type": "stream",
       "stream": "stdout",
       "text": [
        "2013-06-26 15:46:06,469 INFO sqlalchemy.engine.base.Engine COMMIT\n"
       ]
      },
      {
       "output_type": "stream",
       "stream": "stdout",
       "text": [
        "2013-06-26 15:46:06,470 INFO sqlalchemy.engine.base.Engine INSERT INTO accepts (timestamp, proto, src, dst, spt, dpt, inp, out) VALUES (?, ?, ?, ?, ?, ?, ?, ?)\n"
       ]
      },
      {
       "output_type": "stream",
       "stream": "stdout",
       "text": [
        "2013-06-26 15:46:06,471 INFO sqlalchemy.engine.base.Engine ('2013-06-15 20:11:32.000000', 'TCP', '10.10.101.10', '72.215.225.9', '63917', '52230', 'br0', 'vlan1')\n"
       ]
      },
      {
       "output_type": "stream",
       "stream": "stdout",
       "text": [
        "2013-06-26 15:46:06,473 INFO sqlalchemy.engine.base.Engine COMMIT\n"
       ]
      },
      {
       "output_type": "stream",
       "stream": "stdout",
       "text": [
        "2013-06-26 15:46:06,474 INFO sqlalchemy.engine.base.Engine INSERT INTO accepts (timestamp, proto, src, dst, spt, dpt, inp, out) VALUES (?, ?, ?, ?, ?, ?, ?, ?)\n"
       ]
      },
      {
       "output_type": "stream",
       "stream": "stdout",
       "text": [
        "2013-06-26 15:46:06,476 INFO sqlalchemy.engine.base.Engine ('2013-06-15 20:11:33.000000', 'TCP', '10.10.101.10', '72.215.225.9', '63926', '52230', 'br0', 'vlan1')\n"
       ]
      },
      {
       "output_type": "stream",
       "stream": "stdout",
       "text": [
        "2013-06-26 15:46:06,476 INFO sqlalchemy.engine.base.Engine COMMIT\n"
       ]
      },
      {
       "output_type": "stream",
       "stream": "stdout",
       "text": [
        "2013-06-26 15:46:06,479 INFO sqlalchemy.engine.base.Engine INSERT INTO accepts (timestamp, proto, src, dst, spt, dpt, inp, out) VALUES (?, ?, ?, ?, ?, ?, ?, ?)\n"
       ]
      },
      {
       "output_type": "stream",
       "stream": "stdout",
       "text": [
        "2013-06-26 15:46:06,480 INFO sqlalchemy.engine.base.Engine ('2013-06-15 20:11:35.000000', 'TCP', '10.10.101.128', '176.32.98.166', '56309', '443', 'br0', 'vlan1')\n"
       ]
      },
      {
       "output_type": "stream",
       "stream": "stdout",
       "text": [
        "2013-06-26 15:46:06,480 INFO sqlalchemy.engine.base.Engine COMMIT\n"
       ]
      },
      {
       "output_type": "stream",
       "stream": "stdout",
       "text": [
        "2013-06-26 15:46:06,483 INFO sqlalchemy.engine.base.Engine INSERT INTO accepts (timestamp, proto, src, dst, spt, dpt, inp, out) VALUES (?, ?, ?, ?, ?, ?, ?, ?)\n"
       ]
      },
      {
       "output_type": "stream",
       "stream": "stdout",
       "text": [
        "2013-06-26 15:46:06,483 INFO sqlalchemy.engine.base.Engine ('2013-06-15 20:11:36.000000', 'TCP', '10.10.101.10', '72.215.225.9', '63926', '52230', 'br0', 'vlan1')\n"
       ]
      },
      {
       "output_type": "stream",
       "stream": "stdout",
       "text": [
        "2013-06-26 15:46:06,484 INFO sqlalchemy.engine.base.Engine COMMIT\n"
       ]
      },
      {
       "output_type": "stream",
       "stream": "stdout",
       "text": [
        "2013-06-26 15:46:06,486 INFO sqlalchemy.engine.base.Engine INSERT INTO accepts (timestamp, proto, src, dst, spt, dpt, inp, out) VALUES (?, ?, ?, ?, ?, ?, ?, ?)\n"
       ]
      },
      {
       "output_type": "stream",
       "stream": "stdout",
       "text": [
        "2013-06-26 15:46:06,486 INFO sqlalchemy.engine.base.Engine ('2013-06-15 20:11:36.000000', 'TCP', '10.10.101.10', '8.27.246.254', '63931', '80', 'br0', 'vlan1')\n"
       ]
      },
      {
       "output_type": "stream",
       "stream": "stdout",
       "text": [
        "2013-06-26 15:46:06,487 INFO sqlalchemy.engine.base.Engine COMMIT\n"
       ]
      }
     ],
     "prompt_number": 65
    },
    {
     "cell_type": "code",
     "collapsed": false,
     "input": [],
     "language": "python",
     "metadata": {},
     "outputs": []
    }
   ],
   "metadata": {}
  }
 ]
}